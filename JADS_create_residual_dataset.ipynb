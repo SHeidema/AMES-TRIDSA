{
  "nbformat": 4,
  "nbformat_minor": 0,
  "metadata": {
    "colab": {
      "provenance": []
    },
    "kernelspec": {
      "name": "python3",
      "display_name": "Python 3"
    },
    "language_info": {
      "name": "python"
    }
  },
  "cells": [
    {
      "cell_type": "code",
      "source": [
        "pip install vegafusion"
      ],
      "metadata": {
        "id": "mIZVWXkAVLZv",
        "colab": {
          "base_uri": "https://localhost:8080/"
        },
        "outputId": "4fa913c7-8c50-4704-8b01-3af418d3fd04"
      },
      "execution_count": 52,
      "outputs": [
        {
          "output_type": "stream",
          "name": "stdout",
          "text": [
            "Requirement already satisfied: vegafusion in /usr/local/lib/python3.10/dist-packages (1.3.0)\n",
            "Requirement already satisfied: altair>=4.2.0 in /usr/local/lib/python3.10/dist-packages (from vegafusion) (4.2.2)\n",
            "Requirement already satisfied: pyarrow>=5 in /usr/local/lib/python3.10/dist-packages (from vegafusion) (9.0.0)\n",
            "Requirement already satisfied: pandas in /usr/local/lib/python3.10/dist-packages (from vegafusion) (1.5.3)\n",
            "Requirement already satisfied: psutil in /usr/local/lib/python3.10/dist-packages (from vegafusion) (5.9.5)\n",
            "Requirement already satisfied: entrypoints in /usr/local/lib/python3.10/dist-packages (from altair>=4.2.0->vegafusion) (0.4)\n",
            "Requirement already satisfied: jinja2 in /usr/local/lib/python3.10/dist-packages (from altair>=4.2.0->vegafusion) (3.1.2)\n",
            "Requirement already satisfied: jsonschema>=3.0 in /usr/local/lib/python3.10/dist-packages (from altair>=4.2.0->vegafusion) (4.3.3)\n",
            "Requirement already satisfied: numpy in /usr/local/lib/python3.10/dist-packages (from altair>=4.2.0->vegafusion) (1.22.4)\n",
            "Requirement already satisfied: toolz in /usr/local/lib/python3.10/dist-packages (from altair>=4.2.0->vegafusion) (0.12.0)\n",
            "Requirement already satisfied: python-dateutil>=2.8.1 in /usr/local/lib/python3.10/dist-packages (from pandas->vegafusion) (2.8.2)\n",
            "Requirement already satisfied: pytz>=2020.1 in /usr/local/lib/python3.10/dist-packages (from pandas->vegafusion) (2022.7.1)\n",
            "Requirement already satisfied: attrs>=17.4.0 in /usr/local/lib/python3.10/dist-packages (from jsonschema>=3.0->altair>=4.2.0->vegafusion) (23.1.0)\n",
            "Requirement already satisfied: pyrsistent!=0.17.0,!=0.17.1,!=0.17.2,>=0.14.0 in /usr/local/lib/python3.10/dist-packages (from jsonschema>=3.0->altair>=4.2.0->vegafusion) (0.19.3)\n",
            "Requirement already satisfied: six>=1.5 in /usr/local/lib/python3.10/dist-packages (from python-dateutil>=2.8.1->pandas->vegafusion) (1.16.0)\n",
            "Requirement already satisfied: MarkupSafe>=2.0 in /usr/local/lib/python3.10/dist-packages (from jinja2->altair>=4.2.0->vegafusion) (2.1.3)\n"
          ]
        }
      ]
    },
    {
      "cell_type": "code",
      "source": [
        "import altair as alt\n",
        "import matplotlib.pyplot as plt\n",
        "import numpy as np\n",
        "import pandas as pd\n",
        "import sklearn\n",
        "import vegafusion as vf\n",
        "import random\n",
        "from sklearn.compose import ColumnTransformer, make_column_transformer\n",
        "from sklearn.decomposition import PCA\n",
        "from sklearn.ensemble import GradientBoostingRegressor, RandomForestRegressor\n",
        "from sklearn.impute import SimpleImputer\n",
        "from sklearn.linear_model import Lasso, LassoCV, LinearRegression\n",
        "from sklearn.metrics import mean_squared_error\n",
        "from sklearn.model_selection import GridSearchCV, cross_validate, train_test_split\n",
        "from sklearn.pipeline import Pipeline, make_pipeline\n",
        "from sklearn.preprocessing import OneHotEncoder, OrdinalEncoder, StandardScaler\n",
        "from sklearn.utils import estimator_html_repr\n",
        "from xgboost import XGBRegressor\n",
        "\n",
        "# check versions\n",
        "for library in [alt, pd, sklearn, vf]:\n",
        "    print(f\"using {library.__name__} version {library.__version__}\")\n",
        "\n",
        "# Using Altair for data visualization\n",
        "# enable VegaFusion to generate plots with more than 5,000 records\n",
        "vf.enable()\n",
        "\n",
        "# setting to visualize sklearn pipelines\n",
        "# see https://towardsdatascience.com/are-you-using-pipeline-in-scikit-learn-ac4cd85cb27f\n",
        "sklearn.set_config(display=\"diagram\")\n",
        "\n",
        "# dataset\n",
        "URL = \"https://github.com/jads-nl/discover-projects/blob/main/ames-housing/AmesHousing.csv?raw=true\"\n",
        "\n",
        "# leaderboard to compare our results\n",
        "LEADERBOARD = \"https://github.com/jads-nl/discover-projects/blob/main/ames-housing/house-prices-advanced-regression-techniques-publicleaderboard.csv?raw=true\"\n",
        "\n",
        "# fill-value for missings in categorical variables\n",
        "MISSING = \"missing\"\n",
        "NONE = \"not present\""
      ],
      "metadata": {
        "colab": {
          "base_uri": "https://localhost:8080/"
        },
        "id": "GFteB511SYl1",
        "outputId": "0e12dd7e-9930-46b0-edfc-3f53dbc46568"
      },
      "execution_count": 53,
      "outputs": [
        {
          "output_type": "stream",
          "name": "stdout",
          "text": [
            "using altair version 4.2.2\n",
            "using pandas version 1.5.3\n",
            "using sklearn version 1.2.2\n",
            "using vegafusion version 1.3.0\n"
          ]
        }
      ]
    },
    {
      "cell_type": "code",
      "source": [
        "def standardize_column_names(s):\n",
        "    return s.replace(\" \", \"\")\n",
        "\n",
        "\n",
        "def na_means_none(df):\n",
        "    cols_na_means_none = [\n",
        "        \"Alley\",\n",
        "        \"BsmtQual\",\n",
        "        \"BsmtCond\",\n",
        "        \"BsmtFinType1\",\n",
        "        \"BsmtFinType2\",\n",
        "        \"FireplaceQu\",\n",
        "        \"GarageType\",\n",
        "        \"GarageFinish\",\n",
        "        \"GarageQual\",\n",
        "        \"GarageCond\",\n",
        "        \"PoolQC\",\n",
        "        \"Fence\",\n",
        "        \"MiscFeature\",\n",
        "    ]\n",
        "\n",
        "    df.loc[:, cols_na_means_none] = df.loc[:, cols_na_means_none].fillna(value=NONE)\n",
        "    return df\n",
        "\n",
        "\n",
        "def optimize_memory(df):\n",
        "    # objects to categorical\n",
        "    df[df.select_dtypes(include=\"object\").columns] = df.select_dtypes(\n",
        "        include=\"object\"\n",
        "    ).astype(\"category\")\n",
        "\n",
        "    # convert integers to smallest unsigned integer and floats to smallest\n",
        "    for old, new in [(\"integer\", \"unsigned\"), (\"float\", \"float\")]:\n",
        "        for col in df.select_dtypes(include=old).columns:\n",
        "            df[col] = pd.to_numeric(df[col], downcast=new)\n",
        "\n",
        "    return df\n",
        "\n",
        "\n",
        "df = (\n",
        "    pd.read_csv(URL)\n",
        "    .rename(columns=standardize_column_names)\n",
        "    .pipe(na_means_none)\n",
        "    .pipe(optimize_memory)\n",
        ")\n",
        "df.info()"
      ],
      "metadata": {
        "colab": {
          "base_uri": "https://localhost:8080/"
        },
        "id": "lYAbXz_UVGeV",
        "outputId": "12eda6b8-ee90-4359-a411-84d7a1b894c8"
      },
      "execution_count": 54,
      "outputs": [
        {
          "output_type": "stream",
          "name": "stdout",
          "text": [
            "<class 'pandas.core.frame.DataFrame'>\n",
            "RangeIndex: 2930 entries, 0 to 2929\n",
            "Data columns (total 82 columns):\n",
            " #   Column         Non-Null Count  Dtype   \n",
            "---  ------         --------------  -----   \n",
            " 0   Order          2930 non-null   uint16  \n",
            " 1   PID            2930 non-null   uint32  \n",
            " 2   MSSubClass     2930 non-null   uint8   \n",
            " 3   MSZoning       2930 non-null   category\n",
            " 4   LotFrontage    2440 non-null   float32 \n",
            " 5   LotArea        2930 non-null   uint32  \n",
            " 6   Street         2930 non-null   category\n",
            " 7   Alley          2930 non-null   category\n",
            " 8   LotShape       2930 non-null   category\n",
            " 9   LandContour    2930 non-null   category\n",
            " 10  Utilities      2930 non-null   category\n",
            " 11  LotConfig      2930 non-null   category\n",
            " 12  LandSlope      2930 non-null   category\n",
            " 13  Neighborhood   2930 non-null   category\n",
            " 14  Condition1     2930 non-null   category\n",
            " 15  Condition2     2930 non-null   category\n",
            " 16  BldgType       2930 non-null   category\n",
            " 17  HouseStyle     2930 non-null   category\n",
            " 18  OverallQual    2930 non-null   uint8   \n",
            " 19  OverallCond    2930 non-null   uint8   \n",
            " 20  YearBuilt      2930 non-null   uint16  \n",
            " 21  YearRemod/Add  2930 non-null   uint16  \n",
            " 22  RoofStyle      2930 non-null   category\n",
            " 23  RoofMatl       2930 non-null   category\n",
            " 24  Exterior1st    2930 non-null   category\n",
            " 25  Exterior2nd    2930 non-null   category\n",
            " 26  MasVnrType     2907 non-null   category\n",
            " 27  MasVnrArea     2907 non-null   float32 \n",
            " 28  ExterQual      2930 non-null   category\n",
            " 29  ExterCond      2930 non-null   category\n",
            " 30  Foundation     2930 non-null   category\n",
            " 31  BsmtQual       2930 non-null   category\n",
            " 32  BsmtCond       2930 non-null   category\n",
            " 33  BsmtExposure   2847 non-null   category\n",
            " 34  BsmtFinType1   2930 non-null   category\n",
            " 35  BsmtFinSF1     2929 non-null   float32 \n",
            " 36  BsmtFinType2   2930 non-null   category\n",
            " 37  BsmtFinSF2     2929 non-null   float32 \n",
            " 38  BsmtUnfSF      2929 non-null   float32 \n",
            " 39  TotalBsmtSF    2929 non-null   float32 \n",
            " 40  Heating        2930 non-null   category\n",
            " 41  HeatingQC      2930 non-null   category\n",
            " 42  CentralAir     2930 non-null   category\n",
            " 43  Electrical     2929 non-null   category\n",
            " 44  1stFlrSF       2930 non-null   uint16  \n",
            " 45  2ndFlrSF       2930 non-null   uint16  \n",
            " 46  LowQualFinSF   2930 non-null   uint16  \n",
            " 47  GrLivArea      2930 non-null   uint16  \n",
            " 48  BsmtFullBath   2928 non-null   float32 \n",
            " 49  BsmtHalfBath   2928 non-null   float32 \n",
            " 50  FullBath       2930 non-null   uint8   \n",
            " 51  HalfBath       2930 non-null   uint8   \n",
            " 52  BedroomAbvGr   2930 non-null   uint8   \n",
            " 53  KitchenAbvGr   2930 non-null   uint8   \n",
            " 54  KitchenQual    2930 non-null   category\n",
            " 55  TotRmsAbvGrd   2930 non-null   uint8   \n",
            " 56  Functional     2930 non-null   category\n",
            " 57  Fireplaces     2930 non-null   uint8   \n",
            " 58  FireplaceQu    2930 non-null   category\n",
            " 59  GarageType     2930 non-null   category\n",
            " 60  GarageYrBlt    2771 non-null   float32 \n",
            " 61  GarageFinish   2930 non-null   category\n",
            " 62  GarageCars     2929 non-null   float32 \n",
            " 63  GarageArea     2929 non-null   float32 \n",
            " 64  GarageQual     2930 non-null   category\n",
            " 65  GarageCond     2930 non-null   category\n",
            " 66  PavedDrive     2930 non-null   category\n",
            " 67  WoodDeckSF     2930 non-null   uint16  \n",
            " 68  OpenPorchSF    2930 non-null   uint16  \n",
            " 69  EnclosedPorch  2930 non-null   uint16  \n",
            " 70  3SsnPorch      2930 non-null   uint16  \n",
            " 71  ScreenPorch    2930 non-null   uint16  \n",
            " 72  PoolArea       2930 non-null   uint16  \n",
            " 73  PoolQC         2930 non-null   category\n",
            " 74  Fence          2930 non-null   category\n",
            " 75  MiscFeature    2930 non-null   category\n",
            " 76  MiscVal        2930 non-null   uint16  \n",
            " 77  MoSold         2930 non-null   uint8   \n",
            " 78  YrSold         2930 non-null   uint16  \n",
            " 79  SaleType       2930 non-null   category\n",
            " 80  SaleCondition  2930 non-null   category\n",
            " 81  SalePrice      2930 non-null   uint32  \n",
            "dtypes: category(43), float32(11), uint16(15), uint32(3), uint8(10)\n",
            "memory usage: 409.8 KB\n"
          ]
        }
      ]
    },
    {
      "cell_type": "code",
      "source": [
        "# see which columns have NAs, you could make this into a small utility function\n",
        "def na_per_columns(df):\n",
        "    \"\"\"Calculates nulls per column\"\"\"\n",
        "    nulls = df.isnull().sum()\n",
        "    return nulls[nulls != 0].sort_values(ascending=False)\n",
        "\n",
        "\n",
        "cols_with_nulls = na_per_columns(df)\n",
        "cols_with_nulls"
      ],
      "metadata": {
        "colab": {
          "base_uri": "https://localhost:8080/"
        },
        "id": "WGgzSEWTVQVJ",
        "outputId": "dbd97b05-b366-424f-ff4e-4e3e85f8a78c"
      },
      "execution_count": 55,
      "outputs": [
        {
          "output_type": "execute_result",
          "data": {
            "text/plain": [
              "LotFrontage     490\n",
              "GarageYrBlt     159\n",
              "BsmtExposure     83\n",
              "MasVnrType       23\n",
              "MasVnrArea       23\n",
              "BsmtFullBath      2\n",
              "BsmtHalfBath      2\n",
              "BsmtFinSF1        1\n",
              "BsmtFinSF2        1\n",
              "BsmtUnfSF         1\n",
              "TotalBsmtSF       1\n",
              "Electrical        1\n",
              "GarageCars        1\n",
              "GarageArea        1\n",
              "dtype: int64"
            ]
          },
          "metadata": {},
          "execution_count": 55
        }
      ]
    },
    {
      "cell_type": "code",
      "source": [
        "df_no_outliers = df.query(\"GrLivArea < 4000\")\n",
        "df_no_outliers.shape"
      ],
      "metadata": {
        "colab": {
          "base_uri": "https://localhost:8080/"
        },
        "id": "e02xH288Va_f",
        "outputId": "2c684590-a7c4-4dc1-c700-1c0fec811e00"
      },
      "execution_count": 56,
      "outputs": [
        {
          "output_type": "execute_result",
          "data": {
            "text/plain": [
              "(2925, 82)"
            ]
          },
          "metadata": {},
          "execution_count": 56
        }
      ]
    },
    {
      "cell_type": "code",
      "source": [
        "# evaluate which columns have large percentage missing values, say 20%\n",
        "cols_to_drop = (cols_with_nulls[cols_with_nulls / len(df) > 0.2] / len(df)).index\n",
        "cols_with_nulls[cols_to_drop]"
      ],
      "metadata": {
        "colab": {
          "base_uri": "https://localhost:8080/"
        },
        "id": "CjqY3jxjVV7x",
        "outputId": "28da9e87-d297-42a7-cd01-a24ae3c8131a"
      },
      "execution_count": 57,
      "outputs": [
        {
          "output_type": "execute_result",
          "data": {
            "text/plain": [
              "Series([], dtype: int64)"
            ]
          },
          "metadata": {},
          "execution_count": 57
        }
      ]
    },
    {
      "cell_type": "code",
      "source": [
        "# no data snooping - this function does random sampling\n",
        "random.seed(123)\n",
        "df_train, df_test = train_test_split(df_no_outliers, test_size=0.3)"
      ],
      "metadata": {
        "id": "rqZAlJqsVYMf"
      },
      "execution_count": 58,
      "outputs": []
    },
    {
      "cell_type": "code",
      "source": [
        "# prepare X and y, using log(SalePrice) throughout\n",
        "X = df_train[df_train.columns.difference(cols_to_drop).drop(\"SalePrice\")]\n",
        "y = np.log(df_train.SalePrice)\n",
        "\n",
        "# same for test set\n",
        "X_test = df_test[df_test.columns.difference(cols_to_drop).drop(\"SalePrice\")]\n",
        "y_test = np.log(df_test.SalePrice)\n",
        "\n",
        "# read https://numpy.org/doc/stable/reference/arrays.scalars.html\n",
        "# for understanding NumPy dtype hierarchy\n",
        "cat_cols = X.select_dtypes(include=\"category\").columns\n",
        "num_cols = X.select_dtypes(include=\"number\").columns"
      ],
      "metadata": {
        "id": "Id6R9PFJVcvX"
      },
      "execution_count": 59,
      "outputs": []
    },
    {
      "cell_type": "code",
      "source": [
        "# need to explicitly define categories for pipeline and add MISSING category\n",
        "categories = [df[col].cat.categories.to_list() for col in cat_cols]\n",
        "for cat in categories:\n",
        "    cat.append(MISSING)\n",
        "\n",
        "# combine all preprocessing for cat_cols in one pipeline\n",
        "preprocess_cat_cols = make_pipeline(\n",
        "    SimpleImputer(missing_values=np.nan, strategy=\"constant\", fill_value=MISSING),\n",
        "    OneHotEncoder(categories=categories),\n",
        ")\n",
        "\n",
        "# same for num_cols\n",
        "preprocess_num_cols = make_pipeline(\n",
        "    SimpleImputer(missing_values=np.nan, strategy=\"median\"), StandardScaler()\n",
        ")\n",
        "\n",
        "# compose dataset with make_column_transformer\n",
        "prepare_linear = make_column_transformer(\n",
        "    (preprocess_num_cols, num_cols), (preprocess_cat_cols, cat_cols), remainder=\"drop\"\n",
        ")"
      ],
      "metadata": {
        "id": "FevTfljpWAMQ"
      },
      "execution_count": 60,
      "outputs": []
    },
    {
      "cell_type": "code",
      "source": [
        "# prepare X and y, using log(SalePrice) throughout\n",
        "X_full = df_no_outliers[df_no_outliers.columns.difference(cols_to_drop).drop(\"SalePrice\")]\n",
        "y_full = np.log(df_no_outliers.SalePrice)\n",
        "\n",
        "\n",
        "# Fit model on entire dataset\n",
        "ols.fit(X_full,y_full)\n",
        "\n",
        "\n",
        "# Get estimates\n",
        "y_hat = ols.predict(X_full)\n",
        "\n",
        "\n",
        "# Adjust object type\n",
        "\n",
        "y_full_col = pd.DataFrame({'LogSalePrice': y_full}, index = y_full.index)\n",
        "\n",
        "y_hat_col = pd.DataFrame({'LogSalePricePrediction': y_hat}, index = y_full.index)\n",
        "\n",
        "\n",
        "# Concatenate X_full, y_full_col, and y_hat_col\n",
        "df_combined = pd.concat([X_full, y_full_col, y_hat_col], axis=1)\n",
        "\n",
        "\n",
        "from google.colab import files\n",
        "df_combined.to_csv('predictions.csv', encoding = 'utf-8-sig')\n",
        "files.download('predictions.csv')"
      ],
      "metadata": {
        "colab": {
          "base_uri": "https://localhost:8080/",
          "height": 17
        },
        "id": "xxUom22QV956",
        "outputId": "622733d0-d59a-4341-8441-2a4ddf9ed7aa"
      },
      "execution_count": 81,
      "outputs": [
        {
          "output_type": "display_data",
          "data": {
            "text/plain": [
              "<IPython.core.display.Javascript object>"
            ],
            "application/javascript": [
              "\n",
              "    async function download(id, filename, size) {\n",
              "      if (!google.colab.kernel.accessAllowed) {\n",
              "        return;\n",
              "      }\n",
              "      const div = document.createElement('div');\n",
              "      const label = document.createElement('label');\n",
              "      label.textContent = `Downloading \"${filename}\": `;\n",
              "      div.appendChild(label);\n",
              "      const progress = document.createElement('progress');\n",
              "      progress.max = size;\n",
              "      div.appendChild(progress);\n",
              "      document.body.appendChild(div);\n",
              "\n",
              "      const buffers = [];\n",
              "      let downloaded = 0;\n",
              "\n",
              "      const channel = await google.colab.kernel.comms.open(id);\n",
              "      // Send a message to notify the kernel that we're ready.\n",
              "      channel.send({})\n",
              "\n",
              "      for await (const message of channel.messages) {\n",
              "        // Send a message to notify the kernel that we're ready.\n",
              "        channel.send({})\n",
              "        if (message.buffers) {\n",
              "          for (const buffer of message.buffers) {\n",
              "            buffers.push(buffer);\n",
              "            downloaded += buffer.byteLength;\n",
              "            progress.value = downloaded;\n",
              "          }\n",
              "        }\n",
              "      }\n",
              "      const blob = new Blob(buffers, {type: 'application/binary'});\n",
              "      const a = document.createElement('a');\n",
              "      a.href = window.URL.createObjectURL(blob);\n",
              "      a.download = filename;\n",
              "      div.appendChild(a);\n",
              "      a.click();\n",
              "      div.remove();\n",
              "    }\n",
              "  "
            ]
          },
          "metadata": {}
        },
        {
          "output_type": "display_data",
          "data": {
            "text/plain": [
              "<IPython.core.display.Javascript object>"
            ],
            "application/javascript": [
              "download(\"download_cb2399af-dcd7-4545-8fbf-330245cfca85\", \"predictions.csv\", 1238596)"
            ]
          },
          "metadata": {}
        }
      ]
    }
  ]
}